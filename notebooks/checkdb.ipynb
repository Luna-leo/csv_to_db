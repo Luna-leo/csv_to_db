{
 "cells": [
  {
   "cell_type": "code",
   "execution_count": null,
   "id": "c846cbf6",
   "metadata": {},
   "outputs": [],
   "source": [
    "import duckdb\n",
    "\n",
    "conn = duckdb.connect(\"data/meta.duckdb\")\n",
    "\n",
    "tables = conn.execute(\"show all tables\").df()\n",
    "param_master_df = conn.execute(\"select * from param_master\").df()\n",
    "processed_files_df = conn.execute(\"SELECT * FROM processed_files\").df()\n",
    "\n",
    "conn.close()"
   ]
  }
 ],
 "metadata": {
  "language_info": {
   "name": "python"
  }
 },
 "nbformat": 4,
 "nbformat_minor": 5
}
