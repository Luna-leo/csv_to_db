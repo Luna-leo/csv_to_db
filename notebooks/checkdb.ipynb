{
 "cells": [
  {
   "cell_type": "code",
   "execution_count": null,
   "id": "c846cbf6",
   "metadata": {},
   "outputs": [],
   "source": [
    "import duckdb\n",
    "\n",
    "conn = duckdb.connect(\"data/meta.duckdb\")\n",
    "\n",
    "tables = conn.execute(\"SHOW ALL TABLES\").df()\n",
    "table_df = {}\n",
    "for table in tables.name:\n",
    "    table_df[table] = conn.execute(f\"SELECT * FROM {table}\").df()\n",
    "conn.close()\n",
    "\n",
    "tables"
   ]
  },
  {
   "cell_type": "code",
   "execution_count": null,
   "id": "0916aedb",
   "metadata": {},
   "outputs": [],
   "source": [
    "print(\"Tables in the database:\")\n",
    "for table in tables.name:\n",
    "    print(f\"- {table}\")\n",
    "print(\"\\nData in each table:\")\n",
    "for table, df in table_df.items():\n",
    "    print(f\"\\nTable: {table}\")\n",
    "    print(df)"
   ]
  }
 ],
 "metadata": {
  "kernelspec": {
   "display_name": ".venv",
   "language": "python",
   "name": "python3"
  },
  "language_info": {
   "codemirror_mode": {
    "name": "ipython",
    "version": 3
   },
   "file_extension": ".py",
   "mimetype": "text/x-python",
   "name": "python",
   "nbconvert_exporter": "python",
   "pygments_lexer": "ipython3",
   "version": "3.11.11"
  }
 },
 "nbformat": 4,
 "nbformat_minor": 5
}
